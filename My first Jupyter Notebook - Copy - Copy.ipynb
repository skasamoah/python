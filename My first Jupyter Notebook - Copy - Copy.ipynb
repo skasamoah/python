{
 "cells": [
  {
   "cell_type": "markdown",
   "id": "796068d2",
   "metadata": {},
   "source": [
    "## THE FELLOWSHIP"
   ]
  },
  {
   "cell_type": "markdown",
   "id": "02aaea5c",
   "metadata": {},
   "source": [
    "**Blossssom Academy** is a very nice place to be.\n",
    "The Fellowship is actually a hybrid one"
   ]
  },
  {
   "cell_type": "markdown",
   "id": "3abb47db",
   "metadata": {},
   "source": [
    "*Hey, I have to be on top*"
   ]
  },
  {
   "cell_type": "code",
   "execution_count": null,
   "id": "cbae39c5",
   "metadata": {},
   "outputs": [],
   "source": []
  },
  {
   "cell_type": "code",
   "execution_count": null,
   "id": "b1b36fa3",
   "metadata": {},
   "outputs": [],
   "source": [
    "print(\"Solomon\")"
   ]
  },
  {
   "cell_type": "markdown",
   "id": "1688c1c0",
   "metadata": {},
   "source": [
    "- My name is Solomon.\n",
    "\n",
    "- Solomon is a good person.\n",
    "\n",
    "- Samuel seems to be good."
   ]
  },
  {
   "cell_type": "markdown",
   "id": "ef08fd77",
   "metadata": {},
   "source": [
    "***Blossom is a good school***"
   ]
  },
  {
   "cell_type": "code",
   "execution_count": null,
   "id": "1e2adeb0",
   "metadata": {},
   "outputs": [],
   "source": [
    "Hey, I have to below you guys.\n",
    "# this is a comment.\n",
    "/this is a comment/"
   ]
  },
  {
   "cell_type": "markdown",
   "id": "da39c45c",
   "metadata": {},
   "source": [
    "<u>Underline<u/> <b>bold<b/> and <i>italize<i/>"
   ]
  },
  {
   "cell_type": "code",
   "execution_count": 5,
   "id": "0dac4bba",
   "metadata": {},
   "outputs": [
    {
     "name": "stdout",
     "output_type": "stream",
     "text": [
      "5\n"
     ]
    }
   ],
   "source": [
    "print(2+3)"
   ]
  },
  {
   "cell_type": "code",
   "execution_count": null,
   "id": "a7ceb785",
   "metadata": {},
   "outputs": [],
   "source": []
  }
 ],
 "metadata": {
  "kernelspec": {
   "display_name": "Python 3 (ipykernel)",
   "language": "python",
   "name": "python3"
  },
  "language_info": {
   "codemirror_mode": {
    "name": "ipython",
    "version": 3
   },
   "file_extension": ".py",
   "mimetype": "text/x-python",
   "name": "python",
   "nbconvert_exporter": "python",
   "pygments_lexer": "ipython3",
   "version": "3.11.5"
  }
 },
 "nbformat": 4,
 "nbformat_minor": 5
}
